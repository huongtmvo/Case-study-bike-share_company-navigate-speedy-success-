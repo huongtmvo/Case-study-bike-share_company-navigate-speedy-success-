{
 "cells": [
  {
   "cell_type": "markdown",
   "id": "cc778a85",
   "metadata": {
    "id": "cc778a85"
   },
   "source": [
    "# Case study: How does a Bike-Share navigate speedy success?\n",
    "\n",
    "Huong Vo \n",
    "\n",
    "November 5, 2021\n"
   ]
  },
  {
   "cell_type": "markdown",
   "id": "88e36651",
   "metadata": {
    "id": "88e36651"
   },
   "source": [
    "## I. Introduction\n",
    "#### Scenario\n",
    "\n",
    "Cyclistic is a bike-share program that features more than 5,800 bicycles and 600 docking stations. Cyclistic sets itself apart by also offering reclining bikes, hand tricycles, and cargo bikes, making bike-share more inclusive to people with disabilities and riders who can’t use a standard two-wheeled bike. \n",
    "\n",
    "Until now, Cyclistic’s marketing strategy relied on building general awareness and appealing to broad consumer segments.One approach that helped make these things possible was the flexibility of its pricing plans: single-ride passes, full-day passes,and annual memberships. Customers who purchase single-ride or full-day passes are referred to as casual riders. Customers who purchase annual memberships are Cyclistic members.\n",
    "Since annual members are more profitable than casual riders, the marketing director Moreno believes that maximizing the number of annual members will be key to future growth. Rather than creating a marketing campaign that targets all-new customers, Moreno believes there is a very good chance to convert casual riders into members.\n",
    "\n",
    "Moreno has set a clear goal: Design marketing strategies aimed at converting casual riders into annual members. In order to do that, however, the marketing analyst team needs to better understand how annual members and casual riders differ, why casual riders would buy a membership, and how digital media could affect their marketing tactics. Moreno and her team are interested in analyzing the Cyclistic historical bike trip data to identify trends."
   ]
  },
  {
   "cell_type": "markdown",
   "id": "36303e1e",
   "metadata": {
    "id": "36303e1e"
   },
   "source": [
    "#### Business task:\n",
    "This project aims at answering the first question: How do annual members and casual riders use Cyclistic bikes\n",
    "differently?\n",
    "Answering this question will provide insights for the team to better understand the customers and how to create an effective marketing program.\n",
    "#### Data: \n",
    "This project uses the latest 12 months data of Cyclistic's trips from Motivate International Inc. The data is suitable for the project and is reliable, coming from a reputable source."
   ]
  },
  {
   "cell_type": "markdown",
   "id": "df227bd9",
   "metadata": {},
   "source": [
    "## II. Data wrangling and analysis"
   ]
  },
  {
   "cell_type": "markdown",
   "id": "08850f99",
   "metadata": {},
   "source": [
    "#### 1. Import all the neccessary libraries and data"
   ]
  },
  {
   "cell_type": "code",
   "execution_count": 1,
   "id": "d562401a",
   "metadata": {
    "colab": {
     "base_uri": "https://localhost:8080/"
    },
    "executionInfo": {
     "elapsed": 7388,
     "status": "ok",
     "timestamp": 1635980231320,
     "user": {
      "displayName": "Helen Vo",
      "photoUrl": "https://lh3.googleusercontent.com/a/default-user=s64",
      "userId": "06024641955657481731"
     },
     "user_tz": 420
    },
    "id": "d562401a",
    "outputId": "a86c62a1-07f4-4a38-dcdd-87d9ec263fa9"
   },
   "outputs": [],
   "source": [
    "import pandas as pd\n",
    "import matplotlib.pyplot as plt\n",
    "import numpy as np\n",
    "import seaborn as sns\n",
    "# !pip install sqlalchemy\n",
    "# !pip install ipython-sql\n",
    "# !pip install matplotlib"
   ]
  },
  {
   "cell_type": "code",
   "execution_count": 3,
   "id": "6e940984",
   "metadata": {
    "colab": {
     "base_uri": "https://localhost:8080/"
    },
    "executionInfo": {
     "elapsed": 3091,
     "status": "ok",
     "timestamp": 1635980236772,
     "user": {
      "displayName": "Helen Vo",
      "photoUrl": "https://lh3.googleusercontent.com/a/default-user=s64",
      "userId": "06024641955657481731"
     },
     "user_tz": 420
    },
    "id": "6e940984",
    "outputId": "d688251e-dedd-4b51-b18f-ea9250d330f8"
   },
   "outputs": [],
   "source": [
    "dates = ['202010', '202011', '202012'] + [f'20210{i}' for i in range(1, 10)]\n",
    "frames = [\n",
    "    pd.read_csv(f\"/Volumes/GoogleDrive/My Drive/Google Capstone project/{d}-divvy-tripdata.csv\")\n",
    "    for d in dates\n",
    "]\n",
    "data_df = pd.concat(frames)"
   ]
  },
  {
   "cell_type": "markdown",
   "id": "741c1696",
   "metadata": {},
   "source": [
    "#### 2. Data wrangling and explorative data analysis"
   ]
  },
  {
   "cell_type": "markdown",
   "id": "83c7afa8",
   "metadata": {},
   "source": [
    "First, we want to preview the dataset to get an understanding of the data."
   ]
  },
  {
   "cell_type": "code",
   "execution_count": 4,
   "id": "92ed0ca3",
   "metadata": {
    "scrolled": true
   },
   "outputs": [
    {
     "name": "stdout",
     "output_type": "stream",
     "text": [
      "<class 'pandas.core.frame.DataFrame'>\n",
      "Int64Index: 5136261 entries, 0 to 756146\n",
      "Data columns (total 13 columns):\n",
      " #   Column              Dtype  \n",
      "---  ------              -----  \n",
      " 0   ride_id             object \n",
      " 1   rideable_type       object \n",
      " 2   started_at          object \n",
      " 3   ended_at            object \n",
      " 4   start_station_name  object \n",
      " 5   start_station_id    object \n",
      " 6   end_station_name    object \n",
      " 7   end_station_id      object \n",
      " 8   start_lat           float64\n",
      " 9   start_lng           float64\n",
      " 10  end_lat             float64\n",
      " 11  end_lng             float64\n",
      " 12  member_casual       object \n",
      "dtypes: float64(4), object(9)\n",
      "memory usage: 548.6+ MB\n"
     ]
    }
   ],
   "source": [
    "data_df.info()"
   ]
  },
  {
   "cell_type": "code",
   "execution_count": 5,
   "id": "8b66aadc",
   "metadata": {},
   "outputs": [
    {
     "data": {
      "text/plain": [
       "(5136261, 13)"
      ]
     },
     "execution_count": 5,
     "metadata": {},
     "output_type": "execute_result"
    }
   ],
   "source": [
    "data_df.shape"
   ]
  },
  {
   "cell_type": "markdown",
   "id": "8f362f50",
   "metadata": {},
   "source": [
    "The dataset has 5,136,261 rows and 13 columns, spanning over the last 12 months. Next, we will find more general information about the dataset."
   ]
  },
  {
   "cell_type": "markdown",
   "id": "ce9b6302",
   "metadata": {},
   "source": [
    "We see that started_at and ended_at are string objects while they should be date_time format so we change them into datetime format"
   ]
  },
  {
   "cell_type": "code",
   "execution_count": 7,
   "id": "ed5dfb68",
   "metadata": {
    "id": "ed5dfb68",
    "outputId": "09a86b3d-d131-4aee-fba8-2a4c8f13efe6",
    "scrolled": true
   },
   "outputs": [
    {
     "data": {
      "text/plain": [
       "ride_id                       object\n",
       "rideable_type                 object\n",
       "started_at            datetime64[ns]\n",
       "ended_at              datetime64[ns]\n",
       "start_station_name            object\n",
       "start_station_id              object\n",
       "end_station_name              object\n",
       "end_station_id                object\n",
       "start_lat                    float64\n",
       "start_lng                    float64\n",
       "end_lat                      float64\n",
       "end_lng                      float64\n",
       "member_casual                 object\n",
       "dtype: object"
      ]
     },
     "execution_count": 7,
     "metadata": {},
     "output_type": "execute_result"
    }
   ],
   "source": [
    "data_df = data_df.astype({'started_at':'datetime64','ended_at':'datetime64'})\n",
    "data_df.dtypes"
   ]
  },
  {
   "cell_type": "code",
   "execution_count": 8,
   "id": "2a78f2c1",
   "metadata": {},
   "outputs": [
    {
     "data": {
      "text/html": [
       "<div>\n",
       "<style scoped>\n",
       "    .dataframe tbody tr th:only-of-type {\n",
       "        vertical-align: middle;\n",
       "    }\n",
       "\n",
       "    .dataframe tbody tr th {\n",
       "        vertical-align: top;\n",
       "    }\n",
       "\n",
       "    .dataframe thead th {\n",
       "        text-align: right;\n",
       "    }\n",
       "</style>\n",
       "<table border=\"1\" class=\"dataframe\">\n",
       "  <thead>\n",
       "    <tr style=\"text-align: right;\">\n",
       "      <th></th>\n",
       "      <th>ride_id</th>\n",
       "      <th>rideable_type</th>\n",
       "      <th>started_at</th>\n",
       "      <th>ended_at</th>\n",
       "      <th>start_station_name</th>\n",
       "      <th>start_station_id</th>\n",
       "      <th>end_station_name</th>\n",
       "      <th>end_station_id</th>\n",
       "      <th>start_lat</th>\n",
       "      <th>start_lng</th>\n",
       "      <th>end_lat</th>\n",
       "      <th>end_lng</th>\n",
       "      <th>member_casual</th>\n",
       "    </tr>\n",
       "  </thead>\n",
       "  <tbody>\n",
       "    <tr>\n",
       "      <th>0</th>\n",
       "      <td>ACB6B40CF5B9044C</td>\n",
       "      <td>electric_bike</td>\n",
       "      <td>2020-10-31 19:39:43</td>\n",
       "      <td>2020-10-31 19:57:12</td>\n",
       "      <td>Lakeview Ave &amp; Fullerton Pkwy</td>\n",
       "      <td>313.0</td>\n",
       "      <td>Rush St &amp; Hubbard St</td>\n",
       "      <td>125.0</td>\n",
       "      <td>41.926101</td>\n",
       "      <td>-87.638977</td>\n",
       "      <td>41.890345</td>\n",
       "      <td>-87.626068</td>\n",
       "      <td>casual</td>\n",
       "    </tr>\n",
       "    <tr>\n",
       "      <th>1</th>\n",
       "      <td>DF450C72FD109C01</td>\n",
       "      <td>electric_bike</td>\n",
       "      <td>2020-10-31 23:50:08</td>\n",
       "      <td>2020-11-01 00:04:16</td>\n",
       "      <td>Southport Ave &amp; Waveland Ave</td>\n",
       "      <td>227.0</td>\n",
       "      <td>Kedzie Ave &amp; Milwaukee Ave</td>\n",
       "      <td>260.0</td>\n",
       "      <td>41.948172</td>\n",
       "      <td>-87.663911</td>\n",
       "      <td>41.929528</td>\n",
       "      <td>-87.707818</td>\n",
       "      <td>casual</td>\n",
       "    </tr>\n",
       "    <tr>\n",
       "      <th>2</th>\n",
       "      <td>B6396B54A15AC0DF</td>\n",
       "      <td>electric_bike</td>\n",
       "      <td>2020-10-31 23:00:01</td>\n",
       "      <td>2020-10-31 23:08:22</td>\n",
       "      <td>Stony Island Ave &amp; 67th St</td>\n",
       "      <td>102.0</td>\n",
       "      <td>University Ave &amp; 57th St</td>\n",
       "      <td>423.0</td>\n",
       "      <td>41.773462</td>\n",
       "      <td>-87.585372</td>\n",
       "      <td>41.791455</td>\n",
       "      <td>-87.600050</td>\n",
       "      <td>casual</td>\n",
       "    </tr>\n",
       "    <tr>\n",
       "      <th>3</th>\n",
       "      <td>44A4AEE261B9E854</td>\n",
       "      <td>electric_bike</td>\n",
       "      <td>2020-10-31 22:16:43</td>\n",
       "      <td>2020-10-31 22:19:35</td>\n",
       "      <td>Clark St &amp; Grace St</td>\n",
       "      <td>165.0</td>\n",
       "      <td>Broadway &amp; Sheridan Rd</td>\n",
       "      <td>256.0</td>\n",
       "      <td>41.950855</td>\n",
       "      <td>-87.659244</td>\n",
       "      <td>41.952809</td>\n",
       "      <td>-87.650103</td>\n",
       "      <td>casual</td>\n",
       "    </tr>\n",
       "    <tr>\n",
       "      <th>4</th>\n",
       "      <td>10B7DD76A6A2EB95</td>\n",
       "      <td>electric_bike</td>\n",
       "      <td>2020-10-31 19:38:19</td>\n",
       "      <td>2020-10-31 19:54:32</td>\n",
       "      <td>Southport Ave &amp; Wrightwood Ave</td>\n",
       "      <td>190.0</td>\n",
       "      <td>Stave St &amp; Armitage Ave</td>\n",
       "      <td>185.0</td>\n",
       "      <td>41.928857</td>\n",
       "      <td>-87.663962</td>\n",
       "      <td>41.917777</td>\n",
       "      <td>-87.691434</td>\n",
       "      <td>casual</td>\n",
       "    </tr>\n",
       "  </tbody>\n",
       "</table>\n",
       "</div>"
      ],
      "text/plain": [
       "            ride_id  rideable_type          started_at            ended_at  \\\n",
       "0  ACB6B40CF5B9044C  electric_bike 2020-10-31 19:39:43 2020-10-31 19:57:12   \n",
       "1  DF450C72FD109C01  electric_bike 2020-10-31 23:50:08 2020-11-01 00:04:16   \n",
       "2  B6396B54A15AC0DF  electric_bike 2020-10-31 23:00:01 2020-10-31 23:08:22   \n",
       "3  44A4AEE261B9E854  electric_bike 2020-10-31 22:16:43 2020-10-31 22:19:35   \n",
       "4  10B7DD76A6A2EB95  electric_bike 2020-10-31 19:38:19 2020-10-31 19:54:32   \n",
       "\n",
       "               start_station_name start_station_id  \\\n",
       "0   Lakeview Ave & Fullerton Pkwy            313.0   \n",
       "1    Southport Ave & Waveland Ave            227.0   \n",
       "2      Stony Island Ave & 67th St            102.0   \n",
       "3             Clark St & Grace St            165.0   \n",
       "4  Southport Ave & Wrightwood Ave            190.0   \n",
       "\n",
       "             end_station_name end_station_id  start_lat  start_lng    end_lat  \\\n",
       "0        Rush St & Hubbard St          125.0  41.926101 -87.638977  41.890345   \n",
       "1  Kedzie Ave & Milwaukee Ave          260.0  41.948172 -87.663911  41.929528   \n",
       "2    University Ave & 57th St          423.0  41.773462 -87.585372  41.791455   \n",
       "3      Broadway & Sheridan Rd          256.0  41.950855 -87.659244  41.952809   \n",
       "4     Stave St & Armitage Ave          185.0  41.928857 -87.663962  41.917777   \n",
       "\n",
       "     end_lng member_casual  \n",
       "0 -87.626068        casual  \n",
       "1 -87.707818        casual  \n",
       "2 -87.600050        casual  \n",
       "3 -87.650103        casual  \n",
       "4 -87.691434        casual  "
      ]
     },
     "execution_count": 8,
     "metadata": {},
     "output_type": "execute_result"
    }
   ],
   "source": [
    "data_df.head()"
   ]
  },
  {
   "cell_type": "markdown",
   "id": "c885b2b7",
   "metadata": {},
   "source": [
    "Next, we want to find out if there are any null values in the data. "
   ]
  },
  {
   "cell_type": "code",
   "execution_count": 9,
   "id": "3b597d38",
   "metadata": {
    "id": "3b597d38",
    "outputId": "93b161aa-b653-4cc7-f0a6-ec8f9122d93c"
   },
   "outputs": [
    {
     "data": {
      "text/plain": [
       "ride_id                    0\n",
       "rideable_type              0\n",
       "started_at                 0\n",
       "ended_at                   0\n",
       "start_station_name    523467\n",
       "start_station_id      523781\n",
       "end_station_name      567268\n",
       "end_station_id        567501\n",
       "start_lat                  0\n",
       "start_lng                  0\n",
       "end_lat                 4821\n",
       "end_lng                 4821\n",
       "member_casual              0\n",
       "dtype: int64"
      ]
     },
     "execution_count": 9,
     "metadata": {},
     "output_type": "execute_result"
    }
   ],
   "source": [
    "data_df.isnull().sum()"
   ]
  },
  {
   "cell_type": "code",
   "execution_count": 10,
   "id": "66e6171c",
   "metadata": {
    "id": "66e6171c",
    "outputId": "a13828ba-6d4c-4ab1-8b6a-b4b04c8a8e7b"
   },
   "outputs": [
    {
     "data": {
      "text/plain": [
       "ride_id                0.000000\n",
       "rideable_type          0.000000\n",
       "started_at             0.000000\n",
       "ended_at               0.000000\n",
       "start_station_name    11.348155\n",
       "start_station_id      11.355735\n",
       "end_station_name      12.415602\n",
       "end_station_id        12.421335\n",
       "start_lat              0.000000\n",
       "start_lng              0.000000\n",
       "end_lat                0.093950\n",
       "end_lng                0.093950\n",
       "member_casual          0.000000\n",
       "dtype: float64"
      ]
     },
     "execution_count": 10,
     "metadata": {},
     "output_type": "execute_result"
    }
   ],
   "source": [
    "data_df.isnull().sum()/data_df.count()*100"
   ]
  },
  {
   "cell_type": "markdown",
   "id": "636e30df",
   "metadata": {},
   "source": [
    "From this result, we know that about 11-12% of the data have missing start_station_name, id and end_station_name_id, about 1% have misisng end latitude and longitude data. At this point, having those null values probably does not hurt the analysis, so we are going to leave them at that.\n",
    "Next, we calculate the length of ride for each ride by creating a new variable ride_length"
   ]
  },
  {
   "cell_type": "code",
   "execution_count": 11,
   "id": "d909a01b",
   "metadata": {
    "id": "d909a01b",
    "outputId": "8979c7df-8a9b-4098-b693-e2059f9532cf"
   },
   "outputs": [],
   "source": [
    "data_df['ride_length'] = data_df['ended_at'] - data_df['started_at']"
   ]
  },
  {
   "cell_type": "code",
   "execution_count": 12,
   "id": "b618790c",
   "metadata": {},
   "outputs": [
    {
     "data": {
      "text/html": [
       "<div>\n",
       "<style scoped>\n",
       "    .dataframe tbody tr th:only-of-type {\n",
       "        vertical-align: middle;\n",
       "    }\n",
       "\n",
       "    .dataframe tbody tr th {\n",
       "        vertical-align: top;\n",
       "    }\n",
       "\n",
       "    .dataframe thead th {\n",
       "        text-align: right;\n",
       "    }\n",
       "</style>\n",
       "<table border=\"1\" class=\"dataframe\">\n",
       "  <thead>\n",
       "    <tr style=\"text-align: right;\">\n",
       "      <th></th>\n",
       "      <th>ride_id</th>\n",
       "      <th>rideable_type</th>\n",
       "      <th>started_at</th>\n",
       "      <th>ended_at</th>\n",
       "      <th>start_station_name</th>\n",
       "      <th>start_station_id</th>\n",
       "      <th>end_station_name</th>\n",
       "      <th>end_station_id</th>\n",
       "      <th>start_lat</th>\n",
       "      <th>start_lng</th>\n",
       "      <th>end_lat</th>\n",
       "      <th>end_lng</th>\n",
       "      <th>member_casual</th>\n",
       "      <th>ride_length</th>\n",
       "    </tr>\n",
       "  </thead>\n",
       "  <tbody>\n",
       "    <tr>\n",
       "      <th>0</th>\n",
       "      <td>ACB6B40CF5B9044C</td>\n",
       "      <td>electric_bike</td>\n",
       "      <td>2020-10-31 19:39:43</td>\n",
       "      <td>2020-10-31 19:57:12</td>\n",
       "      <td>Lakeview Ave &amp; Fullerton Pkwy</td>\n",
       "      <td>313.0</td>\n",
       "      <td>Rush St &amp; Hubbard St</td>\n",
       "      <td>125.0</td>\n",
       "      <td>41.926101</td>\n",
       "      <td>-87.638977</td>\n",
       "      <td>41.890345</td>\n",
       "      <td>-87.626068</td>\n",
       "      <td>casual</td>\n",
       "      <td>0 days 00:17:29</td>\n",
       "    </tr>\n",
       "    <tr>\n",
       "      <th>1</th>\n",
       "      <td>DF450C72FD109C01</td>\n",
       "      <td>electric_bike</td>\n",
       "      <td>2020-10-31 23:50:08</td>\n",
       "      <td>2020-11-01 00:04:16</td>\n",
       "      <td>Southport Ave &amp; Waveland Ave</td>\n",
       "      <td>227.0</td>\n",
       "      <td>Kedzie Ave &amp; Milwaukee Ave</td>\n",
       "      <td>260.0</td>\n",
       "      <td>41.948172</td>\n",
       "      <td>-87.663911</td>\n",
       "      <td>41.929528</td>\n",
       "      <td>-87.707818</td>\n",
       "      <td>casual</td>\n",
       "      <td>0 days 00:14:08</td>\n",
       "    </tr>\n",
       "    <tr>\n",
       "      <th>2</th>\n",
       "      <td>B6396B54A15AC0DF</td>\n",
       "      <td>electric_bike</td>\n",
       "      <td>2020-10-31 23:00:01</td>\n",
       "      <td>2020-10-31 23:08:22</td>\n",
       "      <td>Stony Island Ave &amp; 67th St</td>\n",
       "      <td>102.0</td>\n",
       "      <td>University Ave &amp; 57th St</td>\n",
       "      <td>423.0</td>\n",
       "      <td>41.773462</td>\n",
       "      <td>-87.585372</td>\n",
       "      <td>41.791455</td>\n",
       "      <td>-87.600050</td>\n",
       "      <td>casual</td>\n",
       "      <td>0 days 00:08:21</td>\n",
       "    </tr>\n",
       "    <tr>\n",
       "      <th>3</th>\n",
       "      <td>44A4AEE261B9E854</td>\n",
       "      <td>electric_bike</td>\n",
       "      <td>2020-10-31 22:16:43</td>\n",
       "      <td>2020-10-31 22:19:35</td>\n",
       "      <td>Clark St &amp; Grace St</td>\n",
       "      <td>165.0</td>\n",
       "      <td>Broadway &amp; Sheridan Rd</td>\n",
       "      <td>256.0</td>\n",
       "      <td>41.950855</td>\n",
       "      <td>-87.659244</td>\n",
       "      <td>41.952809</td>\n",
       "      <td>-87.650103</td>\n",
       "      <td>casual</td>\n",
       "      <td>0 days 00:02:52</td>\n",
       "    </tr>\n",
       "    <tr>\n",
       "      <th>4</th>\n",
       "      <td>10B7DD76A6A2EB95</td>\n",
       "      <td>electric_bike</td>\n",
       "      <td>2020-10-31 19:38:19</td>\n",
       "      <td>2020-10-31 19:54:32</td>\n",
       "      <td>Southport Ave &amp; Wrightwood Ave</td>\n",
       "      <td>190.0</td>\n",
       "      <td>Stave St &amp; Armitage Ave</td>\n",
       "      <td>185.0</td>\n",
       "      <td>41.928857</td>\n",
       "      <td>-87.663962</td>\n",
       "      <td>41.917777</td>\n",
       "      <td>-87.691434</td>\n",
       "      <td>casual</td>\n",
       "      <td>0 days 00:16:13</td>\n",
       "    </tr>\n",
       "  </tbody>\n",
       "</table>\n",
       "</div>"
      ],
      "text/plain": [
       "            ride_id  rideable_type          started_at            ended_at  \\\n",
       "0  ACB6B40CF5B9044C  electric_bike 2020-10-31 19:39:43 2020-10-31 19:57:12   \n",
       "1  DF450C72FD109C01  electric_bike 2020-10-31 23:50:08 2020-11-01 00:04:16   \n",
       "2  B6396B54A15AC0DF  electric_bike 2020-10-31 23:00:01 2020-10-31 23:08:22   \n",
       "3  44A4AEE261B9E854  electric_bike 2020-10-31 22:16:43 2020-10-31 22:19:35   \n",
       "4  10B7DD76A6A2EB95  electric_bike 2020-10-31 19:38:19 2020-10-31 19:54:32   \n",
       "\n",
       "               start_station_name start_station_id  \\\n",
       "0   Lakeview Ave & Fullerton Pkwy            313.0   \n",
       "1    Southport Ave & Waveland Ave            227.0   \n",
       "2      Stony Island Ave & 67th St            102.0   \n",
       "3             Clark St & Grace St            165.0   \n",
       "4  Southport Ave & Wrightwood Ave            190.0   \n",
       "\n",
       "             end_station_name end_station_id  start_lat  start_lng    end_lat  \\\n",
       "0        Rush St & Hubbard St          125.0  41.926101 -87.638977  41.890345   \n",
       "1  Kedzie Ave & Milwaukee Ave          260.0  41.948172 -87.663911  41.929528   \n",
       "2    University Ave & 57th St          423.0  41.773462 -87.585372  41.791455   \n",
       "3      Broadway & Sheridan Rd          256.0  41.950855 -87.659244  41.952809   \n",
       "4     Stave St & Armitage Ave          185.0  41.928857 -87.663962  41.917777   \n",
       "\n",
       "     end_lng member_casual     ride_length  \n",
       "0 -87.626068        casual 0 days 00:17:29  \n",
       "1 -87.707818        casual 0 days 00:14:08  \n",
       "2 -87.600050        casual 0 days 00:08:21  \n",
       "3 -87.650103        casual 0 days 00:02:52  \n",
       "4 -87.691434        casual 0 days 00:16:13  "
      ]
     },
     "execution_count": 12,
     "metadata": {},
     "output_type": "execute_result"
    }
   ],
   "source": [
    "data_df.head()"
   ]
  },
  {
   "cell_type": "markdown",
   "id": "4f29e764",
   "metadata": {},
   "source": [
    "We want to find the min, and max length of ride"
   ]
  },
  {
   "cell_type": "code",
   "execution_count": 13,
   "id": "095cc9b3",
   "metadata": {},
   "outputs": [
    {
     "data": {
      "text/html": [
       "<div>\n",
       "<style scoped>\n",
       "    .dataframe tbody tr th:only-of-type {\n",
       "        vertical-align: middle;\n",
       "    }\n",
       "\n",
       "    .dataframe tbody tr th {\n",
       "        vertical-align: top;\n",
       "    }\n",
       "\n",
       "    .dataframe thead tr th {\n",
       "        text-align: left;\n",
       "    }\n",
       "</style>\n",
       "<table border=\"1\" class=\"dataframe\">\n",
       "  <thead>\n",
       "    <tr>\n",
       "      <th></th>\n",
       "      <th>member_casual</th>\n",
       "      <th colspan=\"2\" halign=\"left\">ride_length</th>\n",
       "    </tr>\n",
       "    <tr>\n",
       "      <th></th>\n",
       "      <th></th>\n",
       "      <th>min</th>\n",
       "      <th>max</th>\n",
       "    </tr>\n",
       "  </thead>\n",
       "  <tbody>\n",
       "    <tr>\n",
       "      <th>0</th>\n",
       "      <td>casual</td>\n",
       "      <td>-21 days +20:44:05</td>\n",
       "      <td>38 days 20:24:09</td>\n",
       "    </tr>\n",
       "    <tr>\n",
       "      <th>1</th>\n",
       "      <td>member</td>\n",
       "      <td>-21 days +19:50:02</td>\n",
       "      <td>6 days 15:17:47</td>\n",
       "    </tr>\n",
       "  </tbody>\n",
       "</table>\n",
       "</div>"
      ],
      "text/plain": [
       "  member_casual        ride_length                 \n",
       "                               min              max\n",
       "0        casual -21 days +20:44:05 38 days 20:24:09\n",
       "1        member -21 days +19:50:02  6 days 15:17:47"
      ]
     },
     "execution_count": 13,
     "metadata": {},
     "output_type": "execute_result"
    }
   ],
   "source": [
    "data_df.groupby('member_casual').agg({'ride_length':['min','max']}).reset_index()"
   ]
  },
  {
   "cell_type": "markdown",
   "id": "e9692c5a",
   "metadata": {},
   "source": [
    "Length of ride should all be positive. We count how many non-positive length of ride out there."
   ]
  },
  {
   "cell_type": "code",
   "execution_count": 14,
   "id": "80e89d44",
   "metadata": {},
   "outputs": [
    {
     "data": {
      "text/plain": [
       "3762"
      ]
     },
     "execution_count": 14,
     "metadata": {},
     "output_type": "execute_result"
    }
   ],
   "source": [
    "\n",
    "negative_df = data_df[data_df['ride_length'] <= pd.Timedelta(value=0,unit='s')]\n",
    "negative_df['ride_length'].count()\n"
   ]
  },
  {
   "cell_type": "markdown",
   "id": "03b39b8f",
   "metadata": {},
   "source": [
    "We know that there are 3762 entries with negative or 0 ride_length. By looking at a subset of this data,the ending time is earlier than the starting time, which does not make sense. We are going to correct this error by dropping all the rows with the non-positive length of ride from the dataset."
   ]
  },
  {
   "cell_type": "code",
   "execution_count": 15,
   "id": "2f9d8ad0",
   "metadata": {
    "scrolled": true
   },
   "outputs": [
    {
     "data": {
      "text/html": [
       "<div>\n",
       "<style scoped>\n",
       "    .dataframe tbody tr th:only-of-type {\n",
       "        vertical-align: middle;\n",
       "    }\n",
       "\n",
       "    .dataframe tbody tr th {\n",
       "        vertical-align: top;\n",
       "    }\n",
       "\n",
       "    .dataframe thead th {\n",
       "        text-align: right;\n",
       "    }\n",
       "</style>\n",
       "<table border=\"1\" class=\"dataframe\">\n",
       "  <thead>\n",
       "    <tr style=\"text-align: right;\">\n",
       "      <th></th>\n",
       "      <th>ride_id</th>\n",
       "      <th>rideable_type</th>\n",
       "      <th>started_at</th>\n",
       "      <th>ended_at</th>\n",
       "      <th>start_station_name</th>\n",
       "      <th>start_station_id</th>\n",
       "      <th>end_station_name</th>\n",
       "      <th>end_station_id</th>\n",
       "      <th>start_lat</th>\n",
       "      <th>start_lng</th>\n",
       "      <th>end_lat</th>\n",
       "      <th>end_lng</th>\n",
       "      <th>member_casual</th>\n",
       "      <th>ride_length</th>\n",
       "    </tr>\n",
       "  </thead>\n",
       "  <tbody>\n",
       "    <tr>\n",
       "      <th>6165</th>\n",
       "      <td>9294FDABA5D390A7</td>\n",
       "      <td>electric_bike</td>\n",
       "      <td>2020-10-01 21:56:57</td>\n",
       "      <td>2020-10-01 21:56:57</td>\n",
       "      <td>Damen Ave &amp; Chicago Ave</td>\n",
       "      <td>128.0</td>\n",
       "      <td>NaN</td>\n",
       "      <td>NaN</td>\n",
       "      <td>41.895617</td>\n",
       "      <td>-87.677102</td>\n",
       "      <td>41.900000</td>\n",
       "      <td>-87.680000</td>\n",
       "      <td>casual</td>\n",
       "      <td>0 days</td>\n",
       "    </tr>\n",
       "    <tr>\n",
       "      <th>13744</th>\n",
       "      <td>3084F7EB08CFC5CF</td>\n",
       "      <td>electric_bike</td>\n",
       "      <td>2020-10-06 12:16:59</td>\n",
       "      <td>2020-10-06 12:16:59</td>\n",
       "      <td>WATSON TESTING - DIVVY</td>\n",
       "      <td>676.0</td>\n",
       "      <td>WATSON TESTING - DIVVY</td>\n",
       "      <td>676.0</td>\n",
       "      <td>41.894808</td>\n",
       "      <td>-87.730765</td>\n",
       "      <td>41.894787</td>\n",
       "      <td>-87.730875</td>\n",
       "      <td>casual</td>\n",
       "      <td>0 days</td>\n",
       "    </tr>\n",
       "    <tr>\n",
       "      <th>19640</th>\n",
       "      <td>6E2774DC880D8D2C</td>\n",
       "      <td>electric_bike</td>\n",
       "      <td>2020-10-09 14:54:39</td>\n",
       "      <td>2020-10-09 14:54:39</td>\n",
       "      <td>WATSON TESTING - DIVVY</td>\n",
       "      <td>676.0</td>\n",
       "      <td>WATSON TESTING - DIVVY</td>\n",
       "      <td>676.0</td>\n",
       "      <td>41.894778</td>\n",
       "      <td>-87.730859</td>\n",
       "      <td>41.894765</td>\n",
       "      <td>-87.730833</td>\n",
       "      <td>casual</td>\n",
       "      <td>0 days</td>\n",
       "    </tr>\n",
       "    <tr>\n",
       "      <th>21235</th>\n",
       "      <td>7730589416BDC116</td>\n",
       "      <td>electric_bike</td>\n",
       "      <td>2020-10-19 18:34:56</td>\n",
       "      <td>2020-10-19 18:34:56</td>\n",
       "      <td>NaN</td>\n",
       "      <td>NaN</td>\n",
       "      <td>NaN</td>\n",
       "      <td>NaN</td>\n",
       "      <td>41.950000</td>\n",
       "      <td>-87.720000</td>\n",
       "      <td>41.950000</td>\n",
       "      <td>-87.720000</td>\n",
       "      <td>casual</td>\n",
       "      <td>0 days</td>\n",
       "    </tr>\n",
       "    <tr>\n",
       "      <th>26830</th>\n",
       "      <td>D8A5E7CC637B3149</td>\n",
       "      <td>electric_bike</td>\n",
       "      <td>2020-10-01 10:44:36</td>\n",
       "      <td>2020-10-01 10:44:36</td>\n",
       "      <td>Orleans St &amp; Chestnut St (NEXT Apts)</td>\n",
       "      <td>620.0</td>\n",
       "      <td>NaN</td>\n",
       "      <td>NaN</td>\n",
       "      <td>41.898167</td>\n",
       "      <td>-87.637479</td>\n",
       "      <td>41.900000</td>\n",
       "      <td>-87.640000</td>\n",
       "      <td>casual</td>\n",
       "      <td>0 days</td>\n",
       "    </tr>\n",
       "  </tbody>\n",
       "</table>\n",
       "</div>"
      ],
      "text/plain": [
       "                ride_id  rideable_type          started_at  \\\n",
       "6165   9294FDABA5D390A7  electric_bike 2020-10-01 21:56:57   \n",
       "13744  3084F7EB08CFC5CF  electric_bike 2020-10-06 12:16:59   \n",
       "19640  6E2774DC880D8D2C  electric_bike 2020-10-09 14:54:39   \n",
       "21235  7730589416BDC116  electric_bike 2020-10-19 18:34:56   \n",
       "26830  D8A5E7CC637B3149  electric_bike 2020-10-01 10:44:36   \n",
       "\n",
       "                 ended_at                    start_station_name  \\\n",
       "6165  2020-10-01 21:56:57               Damen Ave & Chicago Ave   \n",
       "13744 2020-10-06 12:16:59                WATSON TESTING - DIVVY   \n",
       "19640 2020-10-09 14:54:39                WATSON TESTING - DIVVY   \n",
       "21235 2020-10-19 18:34:56                                   NaN   \n",
       "26830 2020-10-01 10:44:36  Orleans St & Chestnut St (NEXT Apts)   \n",
       "\n",
       "      start_station_id        end_station_name end_station_id  start_lat  \\\n",
       "6165             128.0                     NaN            NaN  41.895617   \n",
       "13744            676.0  WATSON TESTING - DIVVY          676.0  41.894808   \n",
       "19640            676.0  WATSON TESTING - DIVVY          676.0  41.894778   \n",
       "21235              NaN                     NaN            NaN  41.950000   \n",
       "26830            620.0                     NaN            NaN  41.898167   \n",
       "\n",
       "       start_lng    end_lat    end_lng member_casual ride_length  \n",
       "6165  -87.677102  41.900000 -87.680000        casual      0 days  \n",
       "13744 -87.730765  41.894787 -87.730875        casual      0 days  \n",
       "19640 -87.730859  41.894765 -87.730833        casual      0 days  \n",
       "21235 -87.720000  41.950000 -87.720000        casual      0 days  \n",
       "26830 -87.637479  41.900000 -87.640000        casual      0 days  "
      ]
     },
     "execution_count": 15,
     "metadata": {},
     "output_type": "execute_result"
    }
   ],
   "source": [
    "negative_df.head()"
   ]
  },
  {
   "cell_type": "code",
   "execution_count": 16,
   "id": "397aa023",
   "metadata": {},
   "outputs": [],
   "source": [
    "data_df.drop(data_df[data_df['ride_length'] <=  pd.Timedelta(value=0,unit='s')].index,inplace=True)"
   ]
  },
  {
   "cell_type": "markdown",
   "id": "2322e345",
   "metadata": {},
   "source": [
    "#### 3. Analysis"
   ]
  },
  {
   "cell_type": "markdown",
   "id": "5d6174e0",
   "metadata": {},
   "source": [
    "#### Ride length analysis"
   ]
  },
  {
   "cell_type": "markdown",
   "id": "ca7f60fe",
   "metadata": {},
   "source": [
    "Next, we want to know the min and max as well as the average length of ride for each rider category."
   ]
  },
  {
   "cell_type": "code",
   "execution_count": 17,
   "id": "5489a2d4",
   "metadata": {},
   "outputs": [
    {
     "data": {
      "text/plain": [
       "member_casual\n",
       "casual   0 days 00:00:01\n",
       "member   0 days 00:00:01\n",
       "Name: ride_length, dtype: timedelta64[ns]"
      ]
     },
     "execution_count": 17,
     "metadata": {},
     "output_type": "execute_result"
    }
   ],
   "source": [
    "data_df.groupby('member_casual')['ride_length'].min()"
   ]
  },
  {
   "cell_type": "code",
   "execution_count": 18,
   "id": "5534fd49",
   "metadata": {},
   "outputs": [
    {
     "data": {
      "text/plain": [
       "member_casual\n",
       "casual   38 days 20:24:09\n",
       "member    6 days 15:17:47\n",
       "Name: ride_length, dtype: timedelta64[ns]"
      ]
     },
     "execution_count": 18,
     "metadata": {},
     "output_type": "execute_result"
    }
   ],
   "source": [
    "data_df.groupby('member_casual')['ride_length'].max()"
   ]
  },
  {
   "cell_type": "code",
   "execution_count": 19,
   "id": "0912ccfe",
   "metadata": {
    "scrolled": true
   },
   "outputs": [
    {
     "data": {
      "text/plain": [
       "member_casual\n",
       "casual   0 days 00:32:50.210911451\n",
       "member   0 days 00:14:10.102917743\n",
       "Name: ride_length, dtype: timedelta64[ns]"
      ]
     },
     "execution_count": 19,
     "metadata": {},
     "output_type": "execute_result"
    }
   ],
   "source": [
    "data_df.groupby('member_casual')['ride_length'].mean(numeric_only = False)\n"
   ]
  },
  {
   "cell_type": "markdown",
   "id": "db24deff",
   "metadata": {},
   "source": [
    "From the results above, we know that the casual riders spent more time per trip than the members and have higher average riding period and also have the longest trip."
   ]
  },
  {
   "cell_type": "markdown",
   "id": "98a0643e",
   "metadata": {},
   "source": [
    "#### Member type analysis"
   ]
  },
  {
   "cell_type": "markdown",
   "id": "a14a8a62",
   "metadata": {},
   "source": [
    "For the next step, we want to find out how many members and casual riders"
   ]
  },
  {
   "cell_type": "code",
   "execution_count": 22,
   "id": "2a378747",
   "metadata": {
    "id": "2a378747",
    "outputId": "a768f65c-d693-4037-f5df-5475498952e9"
   },
   "outputs": [
    {
     "data": {
      "text/plain": [
       "member    2758776\n",
       "casual    2344491\n",
       "Name: member_casual, dtype: int64"
      ]
     },
     "execution_count": 22,
     "metadata": {},
     "output_type": "execute_result"
    }
   ],
   "source": [
    "data_df['member_casual'].value_counts()"
   ]
  },
  {
   "cell_type": "code",
   "execution_count": 23,
   "id": "2b9bc1ae",
   "metadata": {},
   "outputs": [
    {
     "data": {
      "text/plain": [
       "54.05901748820902"
      ]
     },
     "execution_count": 23,
     "metadata": {},
     "output_type": "execute_result"
    }
   ],
   "source": [
    "100*(data_df[data_df['member_casual']== 'member']['ride_id'].count())/(data_df['member_casual'].count())"
   ]
  },
  {
   "cell_type": "markdown",
   "id": "f8c2bb9e",
   "metadata": {},
   "source": [
    "From the code above, we know that about 54% of riders are members, while 46% of riders are casual riders."
   ]
  },
  {
   "cell_type": "code",
   "execution_count": 24,
   "id": "1f66ded6",
   "metadata": {},
   "outputs": [
    {
     "data": {
      "image/png": "[encoded data removed]",
      "text/plain": [
       "<Figure size 360x360 with 1 Axes>"
      ]
     },
     "metadata": {
      "needs_background": "light"
     },
     "output_type": "display_data"
    }
   ],
   "source": [
    "ax = sns.catplot(x='member_casual', kind='count', data=data_df)"
   ]
  },
  {
   "cell_type": "markdown",
   "id": "90f922e0",
   "metadata": {},
   "source": [
    "#### Rideable types analysis"
   ]
  },
  {
   "cell_type": "code",
   "execution_count": 25,
   "id": "2419cfc3",
   "metadata": {
    "id": "2419cfc3",
    "outputId": "a77a6c62-f16e-475b-c242-a002789e6051"
   },
   "outputs": [
    {
     "data": {
      "text/plain": [
       "classic_bike     2733883\n",
       "electric_bike    1698375\n",
       "docked_bike       671009\n",
       "Name: rideable_type, dtype: int64"
      ]
     },
     "execution_count": 25,
     "metadata": {},
     "output_type": "execute_result"
    }
   ],
   "source": [
    "data_df['rideable_type'].value_counts()"
   ]
  },
  {
   "cell_type": "markdown",
   "id": "3df3280b",
   "metadata": {},
   "source": [
    "In order to know which of the member_casual proportion of each bike types, we run the following codes:"
   ]
  },
  {
   "cell_type": "code",
   "execution_count": 26,
   "id": "ddc6c1b6",
   "metadata": {},
   "outputs": [
    {
     "data": {
      "text/html": [
       "<div>\n",
       "<style scoped>\n",
       "    .dataframe tbody tr th:only-of-type {\n",
       "        vertical-align: middle;\n",
       "    }\n",
       "\n",
       "    .dataframe tbody tr th {\n",
       "        vertical-align: top;\n",
       "    }\n",
       "\n",
       "    .dataframe thead th {\n",
       "        text-align: right;\n",
       "    }\n",
       "</style>\n",
       "<table border=\"1\" class=\"dataframe\">\n",
       "  <thead>\n",
       "    <tr style=\"text-align: right;\">\n",
       "      <th></th>\n",
       "      <th>rideable_type</th>\n",
       "      <th>member_casual</th>\n",
       "      <th>size</th>\n",
       "    </tr>\n",
       "  </thead>\n",
       "  <tbody>\n",
       "    <tr>\n",
       "      <th>0</th>\n",
       "      <td>classic_bike</td>\n",
       "      <td>casual</td>\n",
       "      <td>1114204</td>\n",
       "    </tr>\n",
       "    <tr>\n",
       "      <th>1</th>\n",
       "      <td>classic_bike</td>\n",
       "      <td>member</td>\n",
       "      <td>1619679</td>\n",
       "    </tr>\n",
       "    <tr>\n",
       "      <th>2</th>\n",
       "      <td>docked_bike</td>\n",
       "      <td>casual</td>\n",
       "      <td>404690</td>\n",
       "    </tr>\n",
       "    <tr>\n",
       "      <th>3</th>\n",
       "      <td>docked_bike</td>\n",
       "      <td>member</td>\n",
       "      <td>266319</td>\n",
       "    </tr>\n",
       "    <tr>\n",
       "      <th>4</th>\n",
       "      <td>electric_bike</td>\n",
       "      <td>casual</td>\n",
       "      <td>825597</td>\n",
       "    </tr>\n",
       "    <tr>\n",
       "      <th>5</th>\n",
       "      <td>electric_bike</td>\n",
       "      <td>member</td>\n",
       "      <td>872778</td>\n",
       "    </tr>\n",
       "  </tbody>\n",
       "</table>\n",
       "</div>"
      ],
      "text/plain": [
       "   rideable_type member_casual     size\n",
       "0   classic_bike        casual  1114204\n",
       "1   classic_bike        member  1619679\n",
       "2    docked_bike        casual   404690\n",
       "3    docked_bike        member   266319\n",
       "4  electric_bike        casual   825597\n",
       "5  electric_bike        member   872778"
      ]
     },
     "execution_count": 26,
     "metadata": {},
     "output_type": "execute_result"
    }
   ],
   "source": [
    "ride_member = data_df.groupby(['rideable_type','member_casual']).size().reset_index(name='size')\n",
    "ride_member"
   ]
  },
  {
   "cell_type": "code",
   "execution_count": 51,
   "id": "d722801d",
   "metadata": {},
   "outputs": [
    {
     "data": {
      "text/html": [
       "<div>\n",
       "<style scoped>\n",
       "    .dataframe tbody tr th:only-of-type {\n",
       "        vertical-align: middle;\n",
       "    }\n",
       "\n",
       "    .dataframe tbody tr th {\n",
       "        vertical-align: top;\n",
       "    }\n",
       "\n",
       "    .dataframe thead th {\n",
       "        text-align: right;\n",
       "    }\n",
       "</style>\n",
       "<table border=\"1\" class=\"dataframe\">\n",
       "  <thead>\n",
       "    <tr style=\"text-align: right;\">\n",
       "      <th>member_casual</th>\n",
       "      <th>casual</th>\n",
       "      <th>member</th>\n",
       "    </tr>\n",
       "    <tr>\n",
       "      <th>rideable_type</th>\n",
       "      <th></th>\n",
       "      <th></th>\n",
       "    </tr>\n",
       "  </thead>\n",
       "  <tbody>\n",
       "    <tr>\n",
       "      <th>classic_bike</th>\n",
       "      <td>1114204</td>\n",
       "      <td>1619679</td>\n",
       "    </tr>\n",
       "    <tr>\n",
       "      <th>docked_bike</th>\n",
       "      <td>404690</td>\n",
       "      <td>266319</td>\n",
       "    </tr>\n",
       "    <tr>\n",
       "      <th>electric_bike</th>\n",
       "      <td>825597</td>\n",
       "      <td>872778</td>\n",
       "    </tr>\n",
       "  </tbody>\n",
       "</table>\n",
       "</div>"
      ],
      "text/plain": [
       "member_casual   casual   member\n",
       "rideable_type                  \n",
       "classic_bike   1114204  1619679\n",
       "docked_bike     404690   266319\n",
       "electric_bike   825597   872778"
      ]
     },
     "execution_count": 51,
     "metadata": {},
     "output_type": "execute_result"
    }
   ],
   "source": [
    "ride_member_plot = ride_member.groupby(['rideable_type','member_casual'])['size'].sum().unstack().fillna(0)\n",
    "ride_member_plot"
   ]
  },
  {
   "cell_type": "markdown",
   "id": "7ed13e6a",
   "metadata": {},
   "source": [
    "From the result above, we can see that compared to the casual riders,the number of member users are higher for classic bike, lower for docked bike and about the same for electric bike. We can see that the members prefer classic bikes compared to other type of bikes."
   ]
  },
  {
   "cell_type": "markdown",
   "id": "10e88be1",
   "metadata": {},
   "source": [
    "We want to make a chart to illustrate different rideable types with member and casual riders proponent for each category of rides"
   ]
  },
  {
   "cell_type": "code",
   "execution_count": 28,
   "id": "c9017bc0",
   "metadata": {},
   "outputs": [
    {
     "data": {
      "image/png": "[encoded data removed]",
      "text/plain": [
       "<Figure size 432x288 with 1 Axes>"
      ]
     },
     "metadata": {
      "needs_background": "light"
     },
     "output_type": "display_data"
    }
   ],
   "source": [
    "ride_member_plot.plot(kind='bar',stacked=True)\n",
    "plt.title('Number of rides by each bike type and rider categories')\n",
    "plt.xticks(rotation=0)\n",
    "plt.xlabel('Bike type')\n",
    "plt.ylabel('Number of rides')\n",
    "plt.show()"
   ]
  },
  {
   "cell_type": "markdown",
   "id": "61976442",
   "metadata": {},
   "source": [
    "#### Rides vs. Weekday"
   ]
  },
  {
   "cell_type": "markdown",
   "id": "cc0293d4",
   "metadata": {},
   "source": [
    "We want also to find out which date of the week has the most rides"
   ]
  },
  {
   "cell_type": "code",
   "execution_count": 29,
   "id": "a904aa82",
   "metadata": {
    "id": "a904aa82",
    "outputId": "5812022f-391f-4338-9a1c-de42bf572a94"
   },
   "outputs": [
    {
     "data": {
      "text/plain": [
       "5    918232\n",
       "6    785419\n",
       "4    740044\n",
       "3    691072\n",
       "2    675816\n",
       "1    654290\n",
       "0    638394\n",
       "Name: weekday, dtype: int64"
      ]
     },
     "execution_count": 29,
     "metadata": {},
     "output_type": "execute_result"
    }
   ],
   "source": [
    "data_df['weekday'] = data_df['started_at'].dt.dayofweek\n",
    "data_df['weekday'].value_counts()"
   ]
  },
  {
   "cell_type": "code",
   "execution_count": 30,
   "id": "4705d5e6",
   "metadata": {
    "id": "4705d5e6",
    "outputId": "aba9a3fa-7c8d-42fa-d4e9-93e47a621540"
   },
   "outputs": [
    {
     "data": {
      "text/plain": [
       "5"
      ]
     },
     "execution_count": 30,
     "metadata": {},
     "output_type": "execute_result"
    }
   ],
   "source": [
    "data_df['weekday'].value_counts().idxmax()"
   ]
  },
  {
   "cell_type": "markdown",
   "id": "7a38de5f",
   "metadata": {},
   "source": [
    "Next, we want to see the differences in ride trips among members and casual riders with respective to different weekdays"
   ]
  },
  {
   "cell_type": "code",
   "execution_count": 31,
   "id": "4eeb0f4f",
   "metadata": {},
   "outputs": [
    {
     "data": {
      "text/html": [
       "<div>\n",
       "<style scoped>\n",
       "    .dataframe tbody tr th:only-of-type {\n",
       "        vertical-align: middle;\n",
       "    }\n",
       "\n",
       "    .dataframe tbody tr th {\n",
       "        vertical-align: top;\n",
       "    }\n",
       "\n",
       "    .dataframe thead th {\n",
       "        text-align: right;\n",
       "    }\n",
       "</style>\n",
       "<table border=\"1\" class=\"dataframe\">\n",
       "  <thead>\n",
       "    <tr style=\"text-align: right;\">\n",
       "      <th></th>\n",
       "      <th>weekday</th>\n",
       "      <th>member_casual</th>\n",
       "      <th>size</th>\n",
       "    </tr>\n",
       "  </thead>\n",
       "  <tbody>\n",
       "    <tr>\n",
       "      <th>0</th>\n",
       "      <td>0</td>\n",
       "      <td>casual</td>\n",
       "      <td>264973</td>\n",
       "    </tr>\n",
       "    <tr>\n",
       "      <th>1</th>\n",
       "      <td>0</td>\n",
       "      <td>member</td>\n",
       "      <td>373421</td>\n",
       "    </tr>\n",
       "    <tr>\n",
       "      <th>2</th>\n",
       "      <td>1</td>\n",
       "      <td>casual</td>\n",
       "      <td>250025</td>\n",
       "    </tr>\n",
       "    <tr>\n",
       "      <th>3</th>\n",
       "      <td>1</td>\n",
       "      <td>member</td>\n",
       "      <td>404265</td>\n",
       "    </tr>\n",
       "    <tr>\n",
       "      <th>4</th>\n",
       "      <td>2</td>\n",
       "      <td>casual</td>\n",
       "      <td>255777</td>\n",
       "    </tr>\n",
       "    <tr>\n",
       "      <th>5</th>\n",
       "      <td>2</td>\n",
       "      <td>member</td>\n",
       "      <td>420039</td>\n",
       "    </tr>\n",
       "    <tr>\n",
       "      <th>6</th>\n",
       "      <td>3</td>\n",
       "      <td>casual</td>\n",
       "      <td>273174</td>\n",
       "    </tr>\n",
       "    <tr>\n",
       "      <th>7</th>\n",
       "      <td>3</td>\n",
       "      <td>member</td>\n",
       "      <td>417898</td>\n",
       "    </tr>\n",
       "    <tr>\n",
       "      <th>8</th>\n",
       "      <td>4</td>\n",
       "      <td>casual</td>\n",
       "      <td>337275</td>\n",
       "    </tr>\n",
       "    <tr>\n",
       "      <th>9</th>\n",
       "      <td>4</td>\n",
       "      <td>member</td>\n",
       "      <td>402769</td>\n",
       "    </tr>\n",
       "    <tr>\n",
       "      <th>10</th>\n",
       "      <td>5</td>\n",
       "      <td>casual</td>\n",
       "      <td>520810</td>\n",
       "    </tr>\n",
       "    <tr>\n",
       "      <th>11</th>\n",
       "      <td>5</td>\n",
       "      <td>member</td>\n",
       "      <td>397422</td>\n",
       "    </tr>\n",
       "    <tr>\n",
       "      <th>12</th>\n",
       "      <td>6</td>\n",
       "      <td>casual</td>\n",
       "      <td>442457</td>\n",
       "    </tr>\n",
       "    <tr>\n",
       "      <th>13</th>\n",
       "      <td>6</td>\n",
       "      <td>member</td>\n",
       "      <td>342962</td>\n",
       "    </tr>\n",
       "  </tbody>\n",
       "</table>\n",
       "</div>"
      ],
      "text/plain": [
       "    weekday member_casual    size\n",
       "0         0        casual  264973\n",
       "1         0        member  373421\n",
       "2         1        casual  250025\n",
       "3         1        member  404265\n",
       "4         2        casual  255777\n",
       "5         2        member  420039\n",
       "6         3        casual  273174\n",
       "7         3        member  417898\n",
       "8         4        casual  337275\n",
       "9         4        member  402769\n",
       "10        5        casual  520810\n",
       "11        5        member  397422\n",
       "12        6        casual  442457\n",
       "13        6        member  342962"
      ]
     },
     "execution_count": 31,
     "metadata": {},
     "output_type": "execute_result"
    }
   ],
   "source": [
    "weekday_member = data_df.groupby(['weekday','member_casual']).size().reset_index(name='size')\n",
    "weekday_member"
   ]
  },
  {
   "cell_type": "code",
   "execution_count": 32,
   "id": "031ed01a",
   "metadata": {},
   "outputs": [
    {
     "data": {
      "text/html": [
       "<div>\n",
       "<style scoped>\n",
       "    .dataframe tbody tr th:only-of-type {\n",
       "        vertical-align: middle;\n",
       "    }\n",
       "\n",
       "    .dataframe tbody tr th {\n",
       "        vertical-align: top;\n",
       "    }\n",
       "\n",
       "    .dataframe thead th {\n",
       "        text-align: right;\n",
       "    }\n",
       "</style>\n",
       "<table border=\"1\" class=\"dataframe\">\n",
       "  <thead>\n",
       "    <tr style=\"text-align: right;\">\n",
       "      <th>member_casual</th>\n",
       "      <th>casual</th>\n",
       "      <th>member</th>\n",
       "    </tr>\n",
       "    <tr>\n",
       "      <th>weekday</th>\n",
       "      <th></th>\n",
       "      <th></th>\n",
       "    </tr>\n",
       "  </thead>\n",
       "  <tbody>\n",
       "    <tr>\n",
       "      <th>0</th>\n",
       "      <td>264973</td>\n",
       "      <td>373421</td>\n",
       "    </tr>\n",
       "    <tr>\n",
       "      <th>1</th>\n",
       "      <td>250025</td>\n",
       "      <td>404265</td>\n",
       "    </tr>\n",
       "    <tr>\n",
       "      <th>2</th>\n",
       "      <td>255777</td>\n",
       "      <td>420039</td>\n",
       "    </tr>\n",
       "    <tr>\n",
       "      <th>3</th>\n",
       "      <td>273174</td>\n",
       "      <td>417898</td>\n",
       "    </tr>\n",
       "    <tr>\n",
       "      <th>4</th>\n",
       "      <td>337275</td>\n",
       "      <td>402769</td>\n",
       "    </tr>\n",
       "    <tr>\n",
       "      <th>5</th>\n",
       "      <td>520810</td>\n",
       "      <td>397422</td>\n",
       "    </tr>\n",
       "    <tr>\n",
       "      <th>6</th>\n",
       "      <td>442457</td>\n",
       "      <td>342962</td>\n",
       "    </tr>\n",
       "  </tbody>\n",
       "</table>\n",
       "</div>"
      ],
      "text/plain": [
       "member_casual  casual  member\n",
       "weekday                      \n",
       "0              264973  373421\n",
       "1              250025  404265\n",
       "2              255777  420039\n",
       "3              273174  417898\n",
       "4              337275  402769\n",
       "5              520810  397422\n",
       "6              442457  342962"
      ]
     },
     "execution_count": 32,
     "metadata": {},
     "output_type": "execute_result"
    }
   ],
   "source": [
    "weekday_member_plot = weekday_member.groupby(['weekday','member_casual'])['size'].sum().unstack().fillna(0)\n",
    "weekday_member_plot"
   ]
  },
  {
   "cell_type": "markdown",
   "id": "e284a631",
   "metadata": {},
   "source": [
    "From the result above, we see that member users are more active during Monday to Friday with more users; whereas casual riders ride more on the weekends. This implies that members are using more of the bike service to go to work while the casual riders use more bike for leisure time."
   ]
  },
  {
   "cell_type": "markdown",
   "id": "996fce22",
   "metadata": {},
   "source": [
    "Next, we want to make bar chart to see the difference in rides among different weekdays and the member_casual component of each day."
   ]
  },
  {
   "cell_type": "code",
   "execution_count": 50,
   "id": "cb7b3065",
   "metadata": {},
   "outputs": [
    {
     "data": {
      "image/png": "[encoded data removed]",
      "text/plain": [
       "<Figure size 432x288 with 1 Axes>"
      ]
     },
     "metadata": {
      "needs_background": "light"
     },
     "output_type": "display_data"
    }
   ],
   "source": [
    "weekday_member_plot.plot(kind='bar',stacked=False)\n",
    "plt.title('Number of rides by weekday and rider categories')\n",
    "plt.xticks([0,1,2,3,4,5,6],['Monday','Tuesday','Wednesday','Thursday','Friday','Saturday','Sunday'], rotation=30)\n",
    "plt.xlabel('Day of the week')\n",
    "plt.ylabel('Number of rides')\n",
    "plt.show()"
   ]
  },
  {
   "cell_type": "markdown",
   "id": "b32376f3",
   "metadata": {},
   "source": [
    "It is also helpful to find out the average length of ride for each day of the week."
   ]
  },
  {
   "cell_type": "code",
   "execution_count": 35,
   "id": "b8a5845d",
   "metadata": {},
   "outputs": [
    {
     "data": {
      "text/plain": [
       "weekday  member_casual\n",
       "0        casual          0 days 00:32:32.253138999\n",
       "         member          0 days 00:13:40.638485784\n",
       "1        casual          0 days 00:29:20.474504549\n",
       "         member          0 days 00:13:20.033329622\n",
       "2        casual          0 days 00:28:37.062206531\n",
       "         member          0 days 00:13:24.439263973\n",
       "3        casual          0 days 00:28:22.966431651\n",
       "         member          0 days 00:13:17.767579648\n",
       "4        casual          0 days 00:31:24.137181824\n",
       "         member          0 days 00:14:00.686909866\n",
       "5        casual          0 days 00:35:35.569798966\n",
       "         member          0 days 00:15:44.103167413\n",
       "6        casual          0 days 00:38:01.792567413\n",
       "         member          0 days 00:16:03.031105486\n",
       "Name: ride_length, dtype: timedelta64[ns]"
      ]
     },
     "execution_count": 35,
     "metadata": {},
     "output_type": "execute_result"
    }
   ],
   "source": [
    "data_df.groupby(['weekday','member_casual'])['ride_length'].mean(numeric_only=False)"
   ]
  },
  {
   "cell_type": "markdown",
   "id": "4717ab4f",
   "metadata": {},
   "source": [
    "We see that during everyday of the week,the amount of time per trip of members are shorter than casual riders, with the average members ride the bike for about 13-16 minutes and the casual riders ride the bike for 28-38 minutes on average."
   ]
  },
  {
   "cell_type": "markdown",
   "id": "9e8aa074",
   "metadata": {},
   "source": [
    "#### Rides vs. Months"
   ]
  },
  {
   "cell_type": "markdown",
   "id": "e4b95495",
   "metadata": {},
   "source": [
    "Next, we are going to explore what months have the most trips."
   ]
  },
  {
   "cell_type": "code",
   "execution_count": 38,
   "id": "27b88134",
   "metadata": {},
   "outputs": [],
   "source": [
    "import datetime as dt\n",
    "data_df['start_month'] = data_df['started_at'].dt.month"
   ]
  },
  {
   "cell_type": "code",
   "execution_count": 39,
   "id": "ea46951e",
   "metadata": {},
   "outputs": [
    {
     "data": {
      "text/html": [
       "<div>\n",
       "<style scoped>\n",
       "    .dataframe tbody tr th:only-of-type {\n",
       "        vertical-align: middle;\n",
       "    }\n",
       "\n",
       "    .dataframe tbody tr th {\n",
       "        vertical-align: top;\n",
       "    }\n",
       "\n",
       "    .dataframe thead th {\n",
       "        text-align: right;\n",
       "    }\n",
       "</style>\n",
       "<table border=\"1\" class=\"dataframe\">\n",
       "  <thead>\n",
       "    <tr style=\"text-align: right;\">\n",
       "      <th>member_casual</th>\n",
       "      <th>casual</th>\n",
       "      <th>member</th>\n",
       "    </tr>\n",
       "    <tr>\n",
       "      <th>start_month</th>\n",
       "      <th></th>\n",
       "      <th></th>\n",
       "    </tr>\n",
       "  </thead>\n",
       "  <tbody>\n",
       "    <tr>\n",
       "      <th>1</th>\n",
       "      <td>17971</td>\n",
       "      <td>78132</td>\n",
       "    </tr>\n",
       "    <tr>\n",
       "      <th>2</th>\n",
       "      <td>10055</td>\n",
       "      <td>39299</td>\n",
       "    </tr>\n",
       "    <tr>\n",
       "      <th>3</th>\n",
       "      <td>83102</td>\n",
       "      <td>142874</td>\n",
       "    </tr>\n",
       "    <tr>\n",
       "      <th>4</th>\n",
       "      <td>135252</td>\n",
       "      <td>198715</td>\n",
       "    </tr>\n",
       "    <tr>\n",
       "      <th>5</th>\n",
       "      <td>255202</td>\n",
       "      <td>272827</td>\n",
       "    </tr>\n",
       "    <tr>\n",
       "      <th>6</th>\n",
       "      <td>368804</td>\n",
       "      <td>357050</td>\n",
       "    </tr>\n",
       "    <tr>\n",
       "      <th>7</th>\n",
       "      <td>440129</td>\n",
       "      <td>378530</td>\n",
       "    </tr>\n",
       "    <tr>\n",
       "      <th>8</th>\n",
       "      <td>410781</td>\n",
       "      <td>389821</td>\n",
       "    </tr>\n",
       "    <tr>\n",
       "      <th>9</th>\n",
       "      <td>362192</td>\n",
       "      <td>390211</td>\n",
       "    </tr>\n",
       "    <tr>\n",
       "      <th>10</th>\n",
       "      <td>143849</td>\n",
       "      <td>241239</td>\n",
       "    </tr>\n",
       "    <tr>\n",
       "      <th>11</th>\n",
       "      <td>87320</td>\n",
       "      <td>169583</td>\n",
       "    </tr>\n",
       "    <tr>\n",
       "      <th>12</th>\n",
       "      <td>29834</td>\n",
       "      <td>100495</td>\n",
       "    </tr>\n",
       "  </tbody>\n",
       "</table>\n",
       "</div>"
      ],
      "text/plain": [
       "member_casual  casual  member\n",
       "start_month                  \n",
       "1               17971   78132\n",
       "2               10055   39299\n",
       "3               83102  142874\n",
       "4              135252  198715\n",
       "5              255202  272827\n",
       "6              368804  357050\n",
       "7              440129  378530\n",
       "8              410781  389821\n",
       "9              362192  390211\n",
       "10             143849  241239\n",
       "11              87320  169583\n",
       "12              29834  100495"
      ]
     },
     "execution_count": 39,
     "metadata": {},
     "output_type": "execute_result"
    }
   ],
   "source": [
    "month_member = data_df.groupby(['start_month','member_casual']).size().reset_index(name='size')\n",
    "month_member_plot = month_member.groupby(['start_month','member_casual'])['size'].sum().unstack().fillna(0)\n",
    "month_member_plot"
   ]
  },
  {
   "cell_type": "code",
   "execution_count": 48,
   "id": "d2cc3192",
   "metadata": {},
   "outputs": [
    {
     "name": "stdout",
     "output_type": "stream",
     "text": [
      "casual mean 195374.25\n",
      "casual std 162804.78618725334\n"
     ]
    }
   ],
   "source": [
    "print('casual mean',month_member_plot['casual'].mean())\n",
    "print('casual std',month_member_plot['casual'].std())"
   ]
  },
  {
   "cell_type": "code",
   "execution_count": 49,
   "id": "3f71df79",
   "metadata": {
    "scrolled": true
   },
   "outputs": [
    {
     "name": "stdout",
     "output_type": "stream",
     "text": [
      "member mean 229898.0\n",
      "member std 127847.8260930833\n"
     ]
    }
   ],
   "source": [
    "print('member mean',month_member_plot['member'].mean())\n",
    "print('member std',month_member_plot['member'].std())"
   ]
  },
  {
   "cell_type": "code",
   "execution_count": 44,
   "id": "1b3c924f",
   "metadata": {},
   "outputs": [
    {
     "data": {
      "image/png": "[encoded data removed]",
      "text/plain": [
       "<Figure size 432x288 with 1 Axes>"
      ]
     },
     "metadata": {
      "needs_background": "light"
     },
     "output_type": "display_data"
    }
   ],
   "source": [
    "month_member_plot.plot(kind='bar',stacked=False)\n",
    "plt.title('Number of rides by month and rider categories')\n",
    "plt.xticks(rotation=0)\n",
    "plt.xlabel('Month')\n",
    "plt.ylabel('Number of rides')\n",
    "plt.show()\n"
   ]
  },
  {
   "cell_type": "markdown",
   "id": "b9ecfb1d",
   "metadata": {},
   "source": [
    "From the result above, we can see that summer months from June to August have the most rides. While casual members' number of trips fluctuate more then the members (with higher standard deviation)."
   ]
  },
  {
   "cell_type": "markdown",
   "id": "281f03ae",
   "metadata": {},
   "source": [
    "#### Rides vs. Location"
   ]
  },
  {
   "cell_type": "markdown",
   "id": "696c5711",
   "metadata": {},
   "source": [
    " Next, we are going to find out if there is a difference in started and ended locations for each rider type"
   ]
  },
  {
   "cell_type": "code",
   "execution_count": 36,
   "id": "de5c163c",
   "metadata": {
    "id": "de5c163c",
    "outputId": "1e3dbc84-963f-4331-c123-d90b2ed2df7d"
   },
   "outputs": [
    {
     "data": {
      "text/plain": [
       "member_casual  start_station_name       \n",
       "casual         Streeter Dr & Grand Ave      61700\n",
       "               Millennium Park              31908\n",
       "               Michigan Ave & Oak St        29148\n",
       "member         Clark St & Elm St            23749\n",
       "casual         Lake Shore Dr & Monroe St    23362\n",
       "member         Wells St & Concord Ln        21897\n",
       "casual         Shedd Aquarium               21782\n",
       "               Theater on the Lake          21567\n",
       "member         Kingsbury St & Kinzie St     20881\n",
       "               Wells St & Elm St            19718\n",
       "dtype: int64"
      ]
     },
     "execution_count": 36,
     "metadata": {},
     "output_type": "execute_result"
    }
   ],
   "source": [
    "data_df.groupby(['member_casual','start_station_name']).size().sort_values(ascending=False).head(10)"
   ]
  },
  {
   "cell_type": "code",
   "execution_count": 52,
   "id": "c38eae26",
   "metadata": {},
   "outputs": [
    {
     "data": {
      "text/plain": [
       "member_casual  end_station_name          \n",
       "casual         Streeter Dr & Grand Ave       63495\n",
       "               Millennium Park               32929\n",
       "               Michigan Ave & Oak St         30405\n",
       "member         Clark St & Elm St             24166\n",
       "casual         Theater on the Lake           23114\n",
       "member         Wells St & Concord Ln         22569\n",
       "casual         Lake Shore Dr & Monroe St     21931\n",
       "member         Kingsbury St & Kinzie St      21204\n",
       "               Wells St & Elm St             20174\n",
       "casual         Shedd Aquarium                19970\n",
       "               Lake Shore Dr & North Blvd    19366\n",
       "member         Dearborn St & Erie St         19101\n",
       "casual         Wells St & Concord Ln         18349\n",
       "member         St. Clair St & Erie St        18181\n",
       "               Broadway & Barry Ave          18142\n",
       "               Wells St & Huron St           17335\n",
       "casual         Clark St & Lincoln Ave        16784\n",
       "               Wabash Ave & Grand Ave        16544\n",
       "               Indiana Ave & Roosevelt Rd    16433\n",
       "member         Clark St & Armitage Ave       15791\n",
       "dtype: int64"
      ]
     },
     "execution_count": 52,
     "metadata": {},
     "output_type": "execute_result"
    }
   ],
   "source": [
    "data_df.groupby(['member_casual','end_station_name']).size().sort_values(ascending=False).head(20)"
   ]
  },
  {
   "cell_type": "markdown",
   "id": "e3cb58c4",
   "metadata": {},
   "source": [
    "From the result above, we can see that the popular start and end locations for casual riders are Streeter De & Grand Ave, Millenium Park and Michigan Ave & Oak st; whereas the members usually start and end at Clark & Elm st, Wells St & Concord Ln. \n",
    "\n",
    "Compared to the casual riders, the member riders' start and end stations are more spread out."
   ]
  },
  {
   "cell_type": "markdown",
   "id": "67992005",
   "metadata": {},
   "source": [
    "## III. Key findings"
   ]
  },
  {
   "cell_type": "markdown",
   "id": "f1f50c08",
   "metadata": {},
   "source": [
    "* Cyclistic riders compose of 54% annual members and 46% of casual riders.\n",
    "* Among the three types of bikes, members users use more classic and eletric bikes while casual members use more docked bikes.\n",
    "* During everyday of the week,the amount of time per trip of members are shorter than casual riders, with the average members ride the bike for about 13-16 minutes and the casual riders ride the bike for 28-38 minutes on average.\n",
    "* Member users are more active during Monday to Friday; whereas casual riders ride more on the weekends. \n",
    "* Summer months from June to August have the most rides. Casual rides are more than member rides in June, July and August.Compared to the members, casual riders' number of rides varies more widely. \n",
    "* From the result above, we can see that the majority of start and end locations for casual riders are at Streeter De & Grand Ave, Millenium Park and Michigan Ave & Oak st while the members's start and end location are more spread out.\n"
   ]
  },
  {
   "cell_type": "markdown",
   "id": "1cc29a02",
   "metadata": {},
   "source": [
    "## IV. Recommendations"
   ]
  },
  {
   "cell_type": "markdown",
   "id": "f6264b91",
   "metadata": {},
   "source": [
    "* Most of the differences in the uses of member and casual riders can be explained their use purposes. Members are more likely to use the bikes for work, with convenient and dispersed locations, shorter rides, and are more active during work week. On the contrary, casual riders are more likely to use the bike for leisure, with longer average rides, mostly on weekends and in the summer months when weather is nice. \n",
    "* If the company wants to convert casual riders to members, we can market the convenience of our service for work not just leisure, such as the amount of time saved because of our many dispersed staions. An additional idea might be to give a discount to attract the leisure riders to convert to our full membership. \n",
    "* In order to help with figuring out the best marketing plan, ddditional research must be done on why casual riders would buy a membership, and how digital media could affect their marketing tactics.\n"
   ]
  }
 ],
 "metadata": {
  "colab": {
   "name": "Case Study Bike Sharing.ipynb",
   "provenance": []
  },
  "kernelspec": {
   "display_name": "Python 3",
   "language": "python",
   "name": "python3"
  },
  "language_info": {
   "codemirror_mode": {
    "name": "ipython",
    "version": 3
   },
   "file_extension": ".py",
   "mimetype": "text/x-python",
   "name": "python",
   "nbconvert_exporter": "python",
   "pygments_lexer": "ipython3",
   "version": "3.7.4"
  }
 },
 "nbformat": 4,
 "nbformat_minor": 5
}
